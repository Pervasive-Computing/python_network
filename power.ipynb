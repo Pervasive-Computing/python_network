{
 "cells": [
  {
   "cell_type": "code",
   "execution_count": 12,
   "metadata": {},
   "outputs": [
    {
     "name": "stdout",
     "output_type": "stream",
     "text": [
      "1.25\n",
      "Current power consumption Results:\n",
      "1132.5\n"
     ]
    }
   ],
   "source": [
    "\n",
    "from numpy import full\n",
    "\n",
    "\n",
    "KiloWattHours = 0.1\n",
    "full_power_time = 8\n",
    "low_power_time = 9\n",
    "\n",
    "power = KiloWattHours * full_power_time + 0.5 * KiloWattHours * low_power_time\n",
    "\n",
    "print(power)\n",
    "\n",
    "numberOfLamps = 906\n",
    "\n",
    "totalPower = numberOfLamps * power\n",
    "\n",
    "print(\"Current power consumption Results:\")\n",
    "print(totalPower)\n",
    "\n",
    "totalTime = full_power_time + low_power_time\n"
   ]
  },
  {
   "cell_type": "code",
   "execution_count": 19,
   "metadata": {},
   "outputs": [
    {
     "name": "stdout",
     "output_type": "stream",
     "text": [
      "2.777777777777778e-06\n"
     ]
    },
    {
     "data": {
      "text/html": [
       "<div>\n",
       "<style scoped>\n",
       "    .dataframe tbody tr th:only-of-type {\n",
       "        vertical-align: middle;\n",
       "    }\n",
       "\n",
       "    .dataframe tbody tr th {\n",
       "        vertical-align: top;\n",
       "    }\n",
       "\n",
       "    .dataframe thead th {\n",
       "        text-align: right;\n",
       "    }\n",
       "</style>\n",
       "<table border=\"1\" class=\"dataframe\">\n",
       "  <thead>\n",
       "    <tr style=\"text-align: right;\">\n",
       "      <th></th>\n",
       "      <th>delta_time</th>\n",
       "      <th>count_on</th>\n",
       "      <th>count_off</th>\n",
       "    </tr>\n",
       "  </thead>\n",
       "  <tbody>\n",
       "    <tr>\n",
       "      <th>0</th>\n",
       "      <td>0.1</td>\n",
       "      <td>42</td>\n",
       "      <td>864</td>\n",
       "    </tr>\n",
       "    <tr>\n",
       "      <th>1</th>\n",
       "      <td>0.1</td>\n",
       "      <td>50</td>\n",
       "      <td>856</td>\n",
       "    </tr>\n",
       "    <tr>\n",
       "      <th>2</th>\n",
       "      <td>0.1</td>\n",
       "      <td>50</td>\n",
       "      <td>856</td>\n",
       "    </tr>\n",
       "    <tr>\n",
       "      <th>3</th>\n",
       "      <td>0.1</td>\n",
       "      <td>50</td>\n",
       "      <td>856</td>\n",
       "    </tr>\n",
       "    <tr>\n",
       "      <th>4</th>\n",
       "      <td>0.1</td>\n",
       "      <td>50</td>\n",
       "      <td>856</td>\n",
       "    </tr>\n",
       "    <tr>\n",
       "      <th>...</th>\n",
       "      <td>...</td>\n",
       "      <td>...</td>\n",
       "      <td>...</td>\n",
       "    </tr>\n",
       "    <tr>\n",
       "      <th>50677</th>\n",
       "      <td>0.1</td>\n",
       "      <td>626</td>\n",
       "      <td>280</td>\n",
       "    </tr>\n",
       "    <tr>\n",
       "      <th>50678</th>\n",
       "      <td>0.1</td>\n",
       "      <td>629</td>\n",
       "      <td>277</td>\n",
       "    </tr>\n",
       "    <tr>\n",
       "      <th>50679</th>\n",
       "      <td>0.1</td>\n",
       "      <td>629</td>\n",
       "      <td>277</td>\n",
       "    </tr>\n",
       "    <tr>\n",
       "      <th>50680</th>\n",
       "      <td>0.1</td>\n",
       "      <td>629</td>\n",
       "      <td>277</td>\n",
       "    </tr>\n",
       "    <tr>\n",
       "      <th>50681</th>\n",
       "      <td>0.1</td>\n",
       "      <td>629</td>\n",
       "      <td>277</td>\n",
       "    </tr>\n",
       "  </tbody>\n",
       "</table>\n",
       "<p>50682 rows × 3 columns</p>\n",
       "</div>"
      ],
      "text/plain": [
       "       delta_time  count_on  count_off\n",
       "0             0.1        42        864\n",
       "1             0.1        50        856\n",
       "2             0.1        50        856\n",
       "3             0.1        50        856\n",
       "4             0.1        50        856\n",
       "...           ...       ...        ...\n",
       "50677         0.1       626        280\n",
       "50678         0.1       629        277\n",
       "50679         0.1       629        277\n",
       "50680         0.1       629        277\n",
       "50681         0.1       629        277\n",
       "\n",
       "[50682 rows x 3 columns]"
      ]
     },
     "metadata": {},
     "output_type": "display_data"
    },
    {
     "name": "stdout",
     "output_type": "stream",
     "text": [
      "55.24165555555556\n",
      "1.4078333333333335\n",
      "12.07529300343317\n"
     ]
    }
   ],
   "source": [
    "from numpy import disp\n",
    "import pandas as pd\n",
    "\n",
    "\n",
    "KiloWattSeconds = KiloWattHours / 60 / 60 / 10\n",
    "print(KiloWattSeconds)\n",
    "\n",
    "\n",
    "df = pd.read_csv('data.csv')\n",
    "\n",
    "display(df)\n",
    "\n",
    "test_power = df['count_on'].sum() * KiloWattSeconds\n",
    "\n",
    "print(test_power)\n",
    "\n",
    "hours_test = (len(df)*0.01)/60/60\n",
    "\n",
    "print(hours_test)\n",
    "\n",
    "print(totalTime/hours_test)\n",
    "\n",
    "total_power_test = test_power * (totalTime/hours_test)\n"
   ]
  },
  {
   "cell_type": "markdown",
   "metadata": {},
   "source": [
    "100 til 0"
   ]
  },
  {
   "cell_type": "code",
   "execution_count": 14,
   "metadata": {},
   "outputs": [
    {
     "name": "stdout",
     "output_type": "stream",
     "text": [
      "100 to 0 Results:\n",
      "667.0591768280652\n",
      "0.5890147256759958\n"
     ]
    }
   ],
   "source": [
    "print(\"100 to 0 Results:\")\n",
    "print(total_power_test)\n",
    "\n",
    "print(total_power_test/totalPower)"
   ]
  },
  {
   "cell_type": "markdown",
   "metadata": {},
   "source": [
    "100 i aften of 50 i nat"
   ]
  },
  {
   "cell_type": "code",
   "execution_count": 15,
   "metadata": {},
   "outputs": [
    {
     "name": "stdout",
     "output_type": "stream",
     "text": [
      "100 to 0 at afternoon and 50 to 0 at nigth Results:\n",
      "505.34786123338273\n",
      "0.4462232770272695\n"
     ]
    }
   ],
   "source": [
    "total_power_test_hour = total_power_test/16.5\n",
    "\n",
    "total_power_test_100_50 = total_power_test_hour * full_power_time + 0.5 * total_power_test_hour * low_power_time\n",
    "\n",
    "print(\"100 to 0 at afternoon and 50 to 0 at nigth Results:\")\n",
    "print(total_power_test_100_50)\n",
    "\n",
    "print(total_power_test_100_50/totalPower)"
   ]
  },
  {
   "cell_type": "markdown",
   "metadata": {},
   "source": [
    "100-50 i aften of 50-0 i nat"
   ]
  },
  {
   "cell_type": "code",
   "execution_count": 16,
   "metadata": {},
   "outputs": [
    {
     "name": "stdout",
     "output_type": "stream",
     "text": [
      "36.154022222222224\n",
      "5.682490825145021\n",
      "100 to 50 at afternoon and 50 to 0 at nigth Results:\n",
      "710.7927608032497\n",
      "0.6276315768682117\n"
     ]
    }
   ],
   "source": [
    "test_power = df['count_off'].sum() * KiloWattSeconds * 0.5\n",
    "\n",
    "print(test_power)\n",
    "\n",
    "hours_test = (len(df)*0.01)/60/60\n",
    "\n",
    "print(full_power_time/hours_test)\n",
    "\n",
    "total_power_test_100to50_50to0 = test_power * (full_power_time/hours_test) + total_power_test_100_50\n",
    "\n",
    "print(\"100 to 50 at afternoon and 50 to 0 at nigth Results:\")\n",
    "print(total_power_test_100to50_50to0)\n",
    "\n",
    "print(total_power_test_100to50_50to0/totalPower)\n"
   ]
  },
  {
   "cell_type": "markdown",
   "metadata": {},
   "source": [
    "Message power worst case"
   ]
  },
  {
   "cell_type": "code",
   "execution_count": 24,
   "metadata": {},
   "outputs": [
    {
     "name": "stdout",
     "output_type": "stream",
     "text": [
      "1.4501666666666668\n",
      "11.72279048385243\n"
     ]
    }
   ],
   "source": [
    "send_msg_count = 57794345\n",
    "receive_msg_count = 57794345\n",
    "\n",
    "hours_test = (52206*0.01)/60/60\n",
    "print(hours_test)\n",
    "print(totalTime/hours_test)\n",
    "to_total = totalTime/hours_test"
   ]
  },
  {
   "cell_type": "code",
   "execution_count": 25,
   "metadata": {},
   "outputs": [
    {
     "name": "stdout",
     "output_type": "stream",
     "text": [
      "677510997.5864843\n",
      "677510997.5864843\n"
     ]
    }
   ],
   "source": [
    "total_send_msg_count = send_msg_count * to_total\n",
    "total_receive_msg_count = receive_msg_count * to_total\n",
    "\n",
    "print(total_send_msg_count)\n",
    "print(total_receive_msg_count)\n",
    "\n"
   ]
  }
 ],
 "metadata": {
  "kernelspec": {
   "display_name": "Python 3",
   "language": "python",
   "name": "python3"
  },
  "language_info": {
   "codemirror_mode": {
    "name": "ipython",
    "version": 3
   },
   "file_extension": ".py",
   "mimetype": "text/x-python",
   "name": "python",
   "nbconvert_exporter": "python",
   "pygments_lexer": "ipython3",
   "version": "3.10.11"
  }
 },
 "nbformat": 4,
 "nbformat_minor": 2
}
