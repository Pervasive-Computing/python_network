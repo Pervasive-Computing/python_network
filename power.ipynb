{
 "cells": [
  {
   "cell_type": "code",
   "execution_count": 1,
   "metadata": {},
   "outputs": [
    {
     "name": "stdout",
     "output_type": "stream",
     "text": [
      "1.25\n",
      "Current power consumption Results:\n",
      "1132.5\n"
     ]
    }
   ],
   "source": [
    "KiloWatt = 0.1\n",
    "full_power_time = 8\n",
    "low_power_time = 9\n",
    "\n",
    "power = KiloWatt * full_power_time + 0.5 * KiloWatt * low_power_time\n",
    "\n",
    "print(power)\n",
    "\n",
    "numberOfLamps = 906\n",
    "\n",
    "totalPower = numberOfLamps * power\n",
    "\n",
    "print(\"Current power consumption Results:\")\n",
    "print(totalPower)\n",
    "\n",
    "totalTime = full_power_time + low_power_time\n"
   ]
  },
  {
   "cell_type": "code",
   "execution_count": 2,
   "metadata": {},
   "outputs": [
    {
     "data": {
      "text/html": [
       "<div>\n",
       "<style scoped>\n",
       "    .dataframe tbody tr th:only-of-type {\n",
       "        vertical-align: middle;\n",
       "    }\n",
       "\n",
       "    .dataframe tbody tr th {\n",
       "        vertical-align: top;\n",
       "    }\n",
       "\n",
       "    .dataframe thead th {\n",
       "        text-align: right;\n",
       "    }\n",
       "</style>\n",
       "<table border=\"1\" class=\"dataframe\">\n",
       "  <thead>\n",
       "    <tr style=\"text-align: right;\">\n",
       "      <th></th>\n",
       "      <th>delta_time</th>\n",
       "      <th>count_on</th>\n",
       "      <th>count_off</th>\n",
       "    </tr>\n",
       "  </thead>\n",
       "  <tbody>\n",
       "    <tr>\n",
       "      <th>0</th>\n",
       "      <td>0.01</td>\n",
       "      <td>12</td>\n",
       "      <td>894</td>\n",
       "    </tr>\n",
       "    <tr>\n",
       "      <th>1</th>\n",
       "      <td>0.01</td>\n",
       "      <td>14</td>\n",
       "      <td>892</td>\n",
       "    </tr>\n",
       "    <tr>\n",
       "      <th>2</th>\n",
       "      <td>0.01</td>\n",
       "      <td>14</td>\n",
       "      <td>892</td>\n",
       "    </tr>\n",
       "    <tr>\n",
       "      <th>3</th>\n",
       "      <td>0.01</td>\n",
       "      <td>14</td>\n",
       "      <td>892</td>\n",
       "    </tr>\n",
       "    <tr>\n",
       "      <th>4</th>\n",
       "      <td>0.01</td>\n",
       "      <td>14</td>\n",
       "      <td>892</td>\n",
       "    </tr>\n",
       "    <tr>\n",
       "      <th>...</th>\n",
       "      <td>...</td>\n",
       "      <td>...</td>\n",
       "      <td>...</td>\n",
       "    </tr>\n",
       "    <tr>\n",
       "      <th>25996</th>\n",
       "      <td>0.01</td>\n",
       "      <td>538</td>\n",
       "      <td>368</td>\n",
       "    </tr>\n",
       "    <tr>\n",
       "      <th>25997</th>\n",
       "      <td>0.01</td>\n",
       "      <td>538</td>\n",
       "      <td>368</td>\n",
       "    </tr>\n",
       "    <tr>\n",
       "      <th>25998</th>\n",
       "      <td>0.01</td>\n",
       "      <td>538</td>\n",
       "      <td>368</td>\n",
       "    </tr>\n",
       "    <tr>\n",
       "      <th>25999</th>\n",
       "      <td>0.01</td>\n",
       "      <td>537</td>\n",
       "      <td>369</td>\n",
       "    </tr>\n",
       "    <tr>\n",
       "      <th>26000</th>\n",
       "      <td>0.01</td>\n",
       "      <td>536</td>\n",
       "      <td>370</td>\n",
       "    </tr>\n",
       "  </tbody>\n",
       "</table>\n",
       "<p>26001 rows × 3 columns</p>\n",
       "</div>"
      ],
      "text/plain": [
       "       delta_time  count_on  count_off\n",
       "0            0.01        12        894\n",
       "1            0.01        14        892\n",
       "2            0.01        14        892\n",
       "3            0.01        14        892\n",
       "4            0.01        14        892\n",
       "...           ...       ...        ...\n",
       "25996        0.01       538        368\n",
       "25997        0.01       538        368\n",
       "25998        0.01       538        368\n",
       "25999        0.01       537        369\n",
       "26000        0.01       536        370\n",
       "\n",
       "[26001 rows x 3 columns]"
      ]
     },
     "metadata": {},
     "output_type": "display_data"
    },
    {
     "name": "stdout",
     "output_type": "stream",
     "text": [
      "338.0\n",
      "568.0\n"
     ]
    }
   ],
   "source": [
    "import numpy as np\n",
    "import pandas as pd\n",
    "\n",
    "df = pd.read_csv('data.csv')\n",
    "\n",
    "display(df)\n",
    "\n",
    "avarge_on = np.round(df['count_on'].sum() / len(df))\n",
    "avarge_off = np.round(df['count_off'].sum() / len(df))\n",
    "\n",
    "print(avarge_on)\n",
    "print(avarge_off)\n"
   ]
  },
  {
   "cell_type": "markdown",
   "metadata": {},
   "source": [
    "100 til 0"
   ]
  },
  {
   "cell_type": "code",
   "execution_count": 3,
   "metadata": {},
   "outputs": [
    {
     "name": "stdout",
     "output_type": "stream",
     "text": [
      "100 to 0 Results:\n",
      "574.6\n",
      "0.507373068432671\n"
     ]
    }
   ],
   "source": [
    "print(\"100 to 0 Results:\")\n",
    "\n",
    "total_power_test = KiloWatt * avarge_on * totalTime\n",
    "\n",
    "print(total_power_test)\n",
    "\n",
    "print(total_power_test/totalPower)"
   ]
  },
  {
   "cell_type": "markdown",
   "metadata": {},
   "source": [
    "100 i aften of 50 i nat"
   ]
  },
  {
   "cell_type": "code",
   "execution_count": 4,
   "metadata": {},
   "outputs": [
    {
     "name": "stdout",
     "output_type": "stream",
     "text": [
      "100 to 0 at afternoon and 50 to 0 at nigth Results:\n",
      "422.50000000000006\n",
      "0.37306843267108175\n"
     ]
    }
   ],
   "source": [
    "total_power_test_100_50 = KiloWatt * avarge_on * full_power_time + 0.5 * KiloWatt * avarge_on * low_power_time\n",
    "\n",
    "print(\"100 to 0 at afternoon and 50 to 0 at nigth Results:\")\n",
    "print(total_power_test_100_50)\n",
    "\n",
    "print(total_power_test_100_50/totalPower)"
   ]
  },
  {
   "cell_type": "markdown",
   "metadata": {},
   "source": [
    "100-50 i aften of 50-0 i nat"
   ]
  },
  {
   "cell_type": "code",
   "execution_count": 5,
   "metadata": {},
   "outputs": [
    {
     "name": "stdout",
     "output_type": "stream",
     "text": [
      "100 to 50 at afternoon and 50 to 0 at nigth Results:\n",
      "649.7\n",
      "0.5736865342163355\n"
     ]
    }
   ],
   "source": [
    "\n",
    "total_power_test_100to50_50to0 = KiloWatt * avarge_on * full_power_time + 0.5 * KiloWatt * avarge_off * full_power_time + 0.5 * KiloWatt * avarge_on * low_power_time\n",
    "\n",
    "print(\"100 to 50 at afternoon and 50 to 0 at nigth Results:\")\n",
    "print(total_power_test_100to50_50to0)\n",
    "\n",
    "print(total_power_test_100to50_50to0/totalPower)\n"
   ]
  },
  {
   "cell_type": "markdown",
   "metadata": {},
   "source": [
    "Message power worst case"
   ]
  },
  {
   "cell_type": "code",
   "execution_count": 6,
   "metadata": {},
   "outputs": [
    {
     "name": "stdout",
     "output_type": "stream",
     "text": [
      "22.66835890927272\n",
      "22.66835890927272\n",
      "7.680000000000001e-05\n",
      "1.9200000000000003e-05\n",
      "9.600000000000001e-06\n"
     ]
    }
   ],
   "source": [
    "#https://www.elecrow.com/high-power-100mw-2-4g-wireless-transceiver-module-rf-communication-nrf24l01p-pa.html\n",
    "#https://chat.openai.com/share/98fbd772-19d6-4603-9518-2e5a362eb3bf \n",
    "\n",
    "send_msg_count = 5894\n",
    "receive_msg_count = 5894\n",
    "\n",
    "avarge_msg_send = 5894/len(df) * 100\n",
    "avarge_msg_receive = 5894/len(df) * 100\n",
    "\n",
    "print(avarge_msg_send)\n",
    "print(avarge_msg_receive)\n",
    "\n",
    "msg_bits = 192\n",
    "\n",
    "watt = 0.1\n",
    "\n",
    "data_rate_250kbps = 250000\n",
    "data_rate_1mbps = 1000000\n",
    "data_rate_2mbps = 2000000\n",
    "\n",
    "energy_250kbps = (msg_bits  * watt / data_rate_250kbps)\n",
    "energy_1mbps = (msg_bits  * watt / data_rate_1mbps) \n",
    "energy_2mbps = (msg_bits  * watt / data_rate_2mbps)\n",
    "\n",
    "print(energy_250kbps)\n",
    "print(energy_1mbps)\n",
    "print(energy_2mbps)\n"
   ]
  },
  {
   "cell_type": "code",
   "execution_count": 7,
   "metadata": {},
   "outputs": [
    {
     "name": "stdout",
     "output_type": "stream",
     "text": [
      "Energy consumption at 250kbps:\n",
      "0.20055513187954313 KwH\n",
      "Energy consumption at 1mbps:\n",
      "0.05013878296988578 KwH\n",
      "Energy consumption at 2mbps:\n",
      "0.02506939148494289 KwH\n"
     ]
    }
   ],
   "source": [
    "energy_250kbps = (msg_bits * (avarge_msg_send + avarge_msg_receive) * watt / data_rate_250kbps) * 16 * 60 * 60\n",
    "energy_1mbps = (msg_bits * (avarge_msg_send + avarge_msg_receive) * watt / data_rate_1mbps) * 16 * 60 * 60\n",
    "energy_2mbps = (msg_bits * (avarge_msg_send + avarge_msg_receive) * watt / data_rate_2mbps) * 16 * 60 * 60\n",
    "\n",
    "print(\"Energy consumption at 250kbps:\")\n",
    "print(energy_250kbps / 1000, \"KwH\")\n",
    "print(\"Energy consumption at 1mbps:\")\n",
    "print(energy_1mbps / 1000, \"KwH\")\n",
    "print(\"Energy consumption at 2mbps:\")\n",
    "print(energy_2mbps / 1000, \"KwH\")"
   ]
  }
 ],
 "metadata": {
  "kernelspec": {
   "display_name": "Python 3",
   "language": "python",
   "name": "python3"
  },
  "language_info": {
   "codemirror_mode": {
    "name": "ipython",
    "version": 3
   },
   "file_extension": ".py",
   "mimetype": "text/x-python",
   "name": "python",
   "nbconvert_exporter": "python",
   "pygments_lexer": "ipython3",
   "version": "3.10.11"
  }
 },
 "nbformat": 4,
 "nbformat_minor": 2
}
