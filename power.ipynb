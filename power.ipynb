{
 "cells": [
  {
   "cell_type": "code",
   "execution_count": 8,
   "metadata": {},
   "outputs": [
    {
     "name": "stdout",
     "output_type": "stream",
     "text": [
      "1.2\n",
      "1087.2\n"
     ]
    }
   ],
   "source": [
    "\n",
    "wattHours = 0.1\n",
    "full_power_time = 7.5\n",
    "low_power_time = 9\n",
    "\n",
    "power = wattHours * full_power_time + 0.5 * wattHours * low_power_time\n",
    "\n",
    "print(power)\n",
    "\n",
    "numberOfLamps = 906\n",
    "\n",
    "totalPower = numberOfLamps * power\n",
    "\n",
    "print(totalPower)\n"
   ]
  },
  {
   "cell_type": "code",
   "execution_count": null,
   "metadata": {},
   "outputs": [],
   "source": []
  }
 ],
 "metadata": {
  "kernelspec": {
   "display_name": "Python 3",
   "language": "python",
   "name": "python3"
  },
  "language_info": {
   "codemirror_mode": {
    "name": "ipython",
    "version": 3
   },
   "file_extension": ".py",
   "mimetype": "text/x-python",
   "name": "python",
   "nbconvert_exporter": "python",
   "pygments_lexer": "ipython3",
   "version": "3.10.11"
  }
 },
 "nbformat": 4,
 "nbformat_minor": 2
}
