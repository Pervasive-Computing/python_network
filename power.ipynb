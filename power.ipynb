{
 "cells": [
  {
   "cell_type": "code",
   "execution_count": 41,
   "metadata": {},
   "outputs": [
    {
     "name": "stdout",
     "output_type": "stream",
     "text": [
      "Baseline 1:\n",
      "1540.2000000000003\n",
      "Baseline 2:\n",
      "1132.5\n",
      "Baseline2/Baseline1:  73.52941176470587 %\n",
      "Baseline1/Baseline2:  136.00000000000003 %\n"
     ]
    }
   ],
   "source": [
    "KiloWatt = 0.1\n",
    "full_power_time = 8\n",
    "low_power_time = 9\n",
    "\n",
    "power_all_time = KiloWatt * (full_power_time+ low_power_time)\n",
    "power_split_time = KiloWatt * full_power_time + 0.5 * KiloWatt * low_power_time\n",
    "\n",
    "# print(power)\n",
    "\n",
    "numberOfLamps = 906\n",
    "\n",
    "# totalPower = numberOfLamps * power\n",
    "# total_power_baseline1 = numberOfLamps * power_all_time\n",
    "total_power_baseline1 = numberOfLamps * power_all_time\n",
    "total_power_baseline2 = numberOfLamps * power_split_time\n",
    "\n",
    "# print(\"Current power consumption Results:\")\n",
    "print(\"Baseline 1:\")\n",
    "print(total_power_baseline1)\n",
    "print(\"Baseline 2:\")\n",
    "print(total_power_baseline2)\n",
    "\n",
    "totalTime = full_power_time + low_power_time\n",
    "\n",
    "print(\"Baseline2/Baseline1: \", (total_power_baseline2/total_power_baseline1) * 100, \"%\")\n",
    "print(\"Baseline1/Baseline2: \", (total_power_baseline1/total_power_baseline2) * 100, \"%\")"
   ]
  },
  {
   "cell_type": "code",
   "execution_count": 15,
   "metadata": {},
   "outputs": [
    {
     "data": {
      "text/html": [
       "<div>\n",
       "<style scoped>\n",
       "    .dataframe tbody tr th:only-of-type {\n",
       "        vertical-align: middle;\n",
       "    }\n",
       "\n",
       "    .dataframe tbody tr th {\n",
       "        vertical-align: top;\n",
       "    }\n",
       "\n",
       "    .dataframe thead th {\n",
       "        text-align: right;\n",
       "    }\n",
       "</style>\n",
       "<table border=\"1\" class=\"dataframe\">\n",
       "  <thead>\n",
       "    <tr style=\"text-align: right;\">\n",
       "      <th></th>\n",
       "      <th>delta_time</th>\n",
       "      <th>count_on</th>\n",
       "      <th>count_off</th>\n",
       "    </tr>\n",
       "  </thead>\n",
       "  <tbody>\n",
       "    <tr>\n",
       "      <th>0</th>\n",
       "      <td>0.01</td>\n",
       "      <td>12</td>\n",
       "      <td>894</td>\n",
       "    </tr>\n",
       "    <tr>\n",
       "      <th>1</th>\n",
       "      <td>0.01</td>\n",
       "      <td>14</td>\n",
       "      <td>892</td>\n",
       "    </tr>\n",
       "    <tr>\n",
       "      <th>2</th>\n",
       "      <td>0.01</td>\n",
       "      <td>14</td>\n",
       "      <td>892</td>\n",
       "    </tr>\n",
       "    <tr>\n",
       "      <th>3</th>\n",
       "      <td>0.01</td>\n",
       "      <td>14</td>\n",
       "      <td>892</td>\n",
       "    </tr>\n",
       "    <tr>\n",
       "      <th>4</th>\n",
       "      <td>0.01</td>\n",
       "      <td>14</td>\n",
       "      <td>892</td>\n",
       "    </tr>\n",
       "    <tr>\n",
       "      <th>...</th>\n",
       "      <td>...</td>\n",
       "      <td>...</td>\n",
       "      <td>...</td>\n",
       "    </tr>\n",
       "    <tr>\n",
       "      <th>192187</th>\n",
       "      <td>0.01</td>\n",
       "      <td>519</td>\n",
       "      <td>387</td>\n",
       "    </tr>\n",
       "    <tr>\n",
       "      <th>192188</th>\n",
       "      <td>0.01</td>\n",
       "      <td>519</td>\n",
       "      <td>387</td>\n",
       "    </tr>\n",
       "    <tr>\n",
       "      <th>192189</th>\n",
       "      <td>0.01</td>\n",
       "      <td>519</td>\n",
       "      <td>387</td>\n",
       "    </tr>\n",
       "    <tr>\n",
       "      <th>192190</th>\n",
       "      <td>0.01</td>\n",
       "      <td>522</td>\n",
       "      <td>384</td>\n",
       "    </tr>\n",
       "    <tr>\n",
       "      <th>192191</th>\n",
       "      <td>0.01</td>\n",
       "      <td>522</td>\n",
       "      <td>384</td>\n",
       "    </tr>\n",
       "  </tbody>\n",
       "</table>\n",
       "<p>192192 rows × 3 columns</p>\n",
       "</div>"
      ],
      "text/plain": [
       "        delta_time  count_on  count_off\n",
       "0             0.01        12        894\n",
       "1             0.01        14        892\n",
       "2             0.01        14        892\n",
       "3             0.01        14        892\n",
       "4             0.01        14        892\n",
       "...            ...       ...        ...\n",
       "192187        0.01       519        387\n",
       "192188        0.01       519        387\n",
       "192189        0.01       519        387\n",
       "192190        0.01       522        384\n",
       "192191        0.01       522        384\n",
       "\n",
       "[192192 rows x 3 columns]"
      ]
     },
     "metadata": {},
     "output_type": "display_data"
    },
    {
     "name": "stdout",
     "output_type": "stream",
     "text": [
      "339.0\n",
      "567.0\n"
     ]
    }
   ],
   "source": [
    "import numpy as np\n",
    "import pandas as pd\n",
    "\n",
    "df = pd.read_csv('data.csv')\n",
    "\n",
    "display(df)\n",
    "\n",
    "avarge_on = np.round(df['count_on'].sum() / len(df))\n",
    "avarge_off = np.round(df['count_off'].sum() / len(df))\n",
    "\n",
    "print(avarge_on)\n",
    "print(avarge_off)\n"
   ]
  },
  {
   "cell_type": "markdown",
   "metadata": {},
   "source": [
    "# Scenario 1 (100 to 0)"
   ]
  },
  {
   "cell_type": "code",
   "execution_count": 37,
   "metadata": {},
   "outputs": [
    {
     "name": "stdout",
     "output_type": "stream",
     "text": [
      "100 to 0 Results:\n",
      "576.3\n",
      "Compared to baseline 1:  0.3741721854304635\n",
      "Compared to baseline 2:  0.5088741721854304\n"
     ]
    }
   ],
   "source": [
    "print(\"100 to 0 Results:\")\n",
    "\n",
    "scenario1_power = KiloWatt * avarge_on * totalTime\n",
    "\n",
    "print(scenario1_power)\n",
    "\n",
    "print(\"Compared to baseline 1: \", scenario1_power/total_power_baseline1)\n",
    "print(\"Compared to baseline 2: \", scenario1_power/total_power_baseline2)"
   ]
  },
  {
   "cell_type": "markdown",
   "metadata": {},
   "source": [
    "# Scenario 2 (100 to 0 and 50 to 0 i nat)"
   ]
  },
  {
   "cell_type": "code",
   "execution_count": 39,
   "metadata": {},
   "outputs": [
    {
     "name": "stdout",
     "output_type": "stream",
     "text": [
      "100 to 0 at afternoon and 50 to 0 at nigth Results:\n",
      "423.75\n",
      "Compared to baseline 1:  27.512660693416436\n",
      "Compared to baseline 2:  37.41721854304636\n"
     ]
    }
   ],
   "source": [
    "total_power_test_100_50 = KiloWatt * avarge_on * full_power_time + 0.5 * KiloWatt * avarge_on * low_power_time\n",
    "\n",
    "print(\"100 to 0 at afternoon and 50 to 0 at nigth Results:\")\n",
    "print(total_power_test_100_50)\n",
    "\n",
    "# print(total_power_test_100_50/totalPower)\n",
    "\n",
    "print(\"Compared to baseline 1: \", total_power_test_100_50/total_power_baseline1 * 100)\n",
    "print(\"Compared to baseline 2: \", total_power_test_100_50/total_power_baseline2 * 100)"
   ]
  },
  {
   "cell_type": "markdown",
   "metadata": {},
   "source": [
    "# Scenario 3 (50 to 100 and 0 to 50 at night)"
   ]
  },
  {
   "cell_type": "code",
   "execution_count": 40,
   "metadata": {},
   "outputs": [
    {
     "name": "stdout",
     "output_type": "stream",
     "text": [
      "100 to 50 at afternoon and 50 to 0 at nigth Results:\n",
      "650.55\n",
      "Compared to baseline 1:  42.23802103622905\n",
      "Compared to baseline 2:  57.44370860927152\n"
     ]
    }
   ],
   "source": [
    "\n",
    "total_power_test_100to50_50to0 = KiloWatt * avarge_on * full_power_time + 0.5 * KiloWatt * avarge_off * full_power_time + 0.5 * KiloWatt * avarge_on * low_power_time\n",
    "\n",
    "\n",
    "\n",
    "print(\"100 to 50 at afternoon and 50 to 0 at nigth Results:\")\n",
    "print(total_power_test_100to50_50to0)\n",
    "\n",
    "# print(total_power_test_100to50_50to0/totalPower)\n",
    "print(\"Compared to baseline 1: \", total_power_test_100to50_50to0/total_power_baseline1 * 100)\n",
    "print(\"Compared to baseline 2: \", total_power_test_100to50_50to0/total_power_baseline2 * 100)\n"
   ]
  },
  {
   "cell_type": "markdown",
   "metadata": {},
   "source": [
    "Message power worst case"
   ]
  },
  {
   "cell_type": "code",
   "execution_count": 19,
   "metadata": {},
   "outputs": [
    {
     "name": "stdout",
     "output_type": "stream",
     "text": [
      "16.77229020979021\n",
      "16.77229020979021\n",
      "7.680000000000001e-05\n",
      "1.9200000000000003e-05\n",
      "9.600000000000001e-06\n"
     ]
    }
   ],
   "source": [
    "#https://www.elecrow.com/high-power-100mw-2-4g-wireless-transceiver-module-rf-communication-nrf24l01p-pa.html\n",
    "#https://chat.openai.com/share/98fbd772-19d6-4603-9518-2e5a362eb3bf \n",
    "\n",
    "send_msg_count = 32235\n",
    "receive_msg_count = 32235\n",
    "\n",
    "avarge_msg_send = send_msg_count/len(df) * 100\n",
    "avarge_msg_receive = receive_msg_count/len(df) * 100\n",
    "\n",
    "print(avarge_msg_send)\n",
    "print(avarge_msg_receive)\n",
    "\n",
    "msg_bits = 192\n",
    "\n",
    "watt = 0.1\n",
    "\n",
    "data_rate_250kbps = 250000\n",
    "data_rate_1mbps = 1000000\n",
    "data_rate_2mbps = 2000000\n",
    "\n",
    "energy_250kbps = (msg_bits  * watt / data_rate_250kbps)\n",
    "energy_1mbps = (msg_bits  * watt / data_rate_1mbps) \n",
    "energy_2mbps = (msg_bits  * watt / data_rate_2mbps)\n",
    "\n",
    "print(energy_250kbps)\n",
    "print(energy_1mbps)\n",
    "print(energy_2mbps)\n"
   ]
  },
  {
   "cell_type": "code",
   "execution_count": 20,
   "metadata": {},
   "outputs": [
    {
     "name": "stdout",
     "output_type": "stream",
     "text": [
      "Energy consumption at 250kbps:\n",
      "0.14839048951048955 KwH\n",
      "Energy consumption at 1mbps:\n",
      "0.03709762237762239 KwH\n",
      "Energy consumption at 2mbps:\n",
      "0.018548811188811194 KwH\n"
     ]
    }
   ],
   "source": [
    "energy_250kbps = (msg_bits * (avarge_msg_send + avarge_msg_receive) * watt / data_rate_250kbps) * 16 * 60 * 60\n",
    "energy_1mbps = (msg_bits * (avarge_msg_send + avarge_msg_receive) * watt / data_rate_1mbps) * 16 * 60 * 60\n",
    "energy_2mbps = (msg_bits * (avarge_msg_send + avarge_msg_receive) * watt / data_rate_2mbps) * 16 * 60 * 60\n",
    "\n",
    "print(\"Energy consumption at 250kbps:\")\n",
    "print(energy_250kbps / 1000, \"KwH\")\n",
    "print(\"Energy consumption at 1mbps:\")\n",
    "print(energy_1mbps / 1000, \"KwH\")\n",
    "print(\"Energy consumption at 2mbps:\")\n",
    "print(energy_2mbps / 1000, \"KwH\")"
   ]
  }
 ],
 "metadata": {
  "kernelspec": {
   "display_name": "Python 3",
   "language": "python",
   "name": "python3"
  },
  "language_info": {
   "codemirror_mode": {
    "name": "ipython",
    "version": 3
   },
   "file_extension": ".py",
   "mimetype": "text/x-python",
   "name": "python",
   "nbconvert_exporter": "python",
   "pygments_lexer": "ipython3",
   "version": "3.11.6"
  }
 },
 "nbformat": 4,
 "nbformat_minor": 2
}
